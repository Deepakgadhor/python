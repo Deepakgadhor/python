{
 "cells": [
  {
   "cell_type": "code",
   "execution_count": 19,
   "metadata": {},
   "outputs": [
    {
     "name": "stdout",
     "output_type": "stream",
     "text": [
      "55\n"
     ]
    }
   ],
   "source": [
    "s=0\n",
    "def sumOfNaturalNumbers(n):\n",
    "    if n<0:\n",
    "        print(\"please enter natural no.\")\n",
    "    else:\n",
    "        for i in range(1,n+1):\n",
    "            global s\n",
    "            s=s+i\n",
    "        print(s)\n",
    "sumOfNaturalNumbers(10)"
   ]
  },
  {
   "cell_type": "code",
   "execution_count": 31,
   "metadata": {},
   "outputs": [
    {
     "name": "stdout",
     "output_type": "stream",
     "text": [
      "given number is armstrong number\n"
     ]
    }
   ],
   "source": [
    "n=153\n",
    "t=int(n)\n",
    "s=0\n",
    "while(t>0):\n",
    "    r=int(t%10)\n",
    "    \n",
    "    m=r*r*r\n",
    "    \n",
    "    s=int(s+m)\n",
    "    \n",
    "    t=int(t/10)\n",
    "    \n",
    "if n==s:\n",
    "    print(n,\"given number is armstrong number\")\n",
    "else:\n",
    "    print(n,\"no it is not a armstrong number\")"
   ]
  },
  {
   "cell_type": "code",
   "execution_count": null,
   "metadata": {},
   "outputs": [],
   "source": [
    "number=\"987654321\"\n",
    "number[]"
   ]
  }
 ],
 "metadata": {
  "kernelspec": {
   "display_name": "Python 3",
   "language": "python",
   "name": "python3"
  },
  "language_info": {
   "codemirror_mode": {
    "name": "ipython",
    "version": 3
   },
   "file_extension": ".py",
   "mimetype": "text/x-python",
   "name": "python",
   "nbconvert_exporter": "python",
   "pygments_lexer": "ipython3",
   "version": "3.7.3"
  }
 },
 "nbformat": 4,
 "nbformat_minor": 2
}
